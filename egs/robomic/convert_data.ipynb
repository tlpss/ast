{
 "cells": [
  {
   "cell_type": "code",
   "execution_count": 1,
   "metadata": {},
   "outputs": [],
   "source": [
    "%load_ext autoreload\n",
    "%autoreload 2"
   ]
  },
  {
   "cell_type": "code",
   "execution_count": 2,
   "metadata": {},
   "outputs": [],
   "source": [
    "DATA_DIR = \"data/icra2025-v0\"\n"
   ]
  },
  {
   "cell_type": "code",
   "execution_count": 3,
   "metadata": {},
   "outputs": [],
   "source": [
    "# remove all \"wav\" files from the data directory\n",
    "import os\n",
    "import glob\n",
    "# glob cannot find files with a leading dot\n",
    "files = glob.glob(os.path.join(DATA_DIR, \"**\", \"*.wav\"), recursive=True)\n",
    "\n",
    "for f in files:\n",
    "    os.remove(f)"
   ]
  },
  {
   "cell_type": "code",
   "execution_count": 4,
   "metadata": {},
   "outputs": [],
   "source": [
    "import os"
   ]
  },
  {
   "cell_type": "code",
   "execution_count": 5,
   "metadata": {},
   "outputs": [
    {
     "name": "stdout",
     "output_type": "stream",
     "text": [
      "['3_M6x14', 'empty', 'empty_disturbed']\n",
      "3_M6x14\n",
      "['laser_2025-02-18[15].csv', 'mic_2025-02-18[20].csv', 'mic_2025-02-18[11].csv', 'laser_2025-02-18[9].csv', 'laser_2025-02-18[17].csv', 'laser_2025-02-18[14].csv', 'mic_2025-02-18[17].csv', 'mic_2025-02-18[6].csv', 'laser_2025-02-18[16].csv', 'mic_2025-02-18[1].csv', 'laser_2025-02-18[18].csv', 'laser_2025-02-18[8].csv', 'mic_2025-02-18[2].csv', 'laser_2025-02-18[20].csv', 'mic_2025-02-18[5].csv', 'mic_2025-02-18[13].csv', 'laser_2025-02-18[12].csv', 'laser_2025-02-18[5].csv', 'laser_2025-02-18[19].csv', 'mic_2025-02-18[9].csv', 'laser_2025-02-18[3].csv', 'laser_2025-02-18[1].csv', 'mic_2025-02-18[7].csv', 'mic_2025-02-18[15].csv', 'mic_2025-02-18[10].csv', 'mic_2025-02-18[19].csv', 'laser_2025-02-18[6].csv', 'mic_2025-02-18[14].csv', 'mic_2025-02-18[16].csv', 'mic_2025-02-18[4].csv', 'laser_2025-02-18[4].csv', 'mic_2025-02-18[12].csv', 'laser_2025-02-18[10].csv', 'laser_2025-02-18[2].csv', 'laser_2025-02-18[13].csv', 'mic_2025-02-18[18].csv', 'laser_2025-02-18[11].csv', 'mic_2025-02-18[3].csv', 'mic_2025-02-18[8].csv', 'laser_2025-02-18[7].csv']\n",
      "empty\n",
      "['laser_2025-02-18[15].csv', 'mic_2025-02-18[20].csv', 'mic_2025-02-18[11].csv', 'laser_2025-02-18[9].csv', 'laser_2025-02-18[17].csv', 'laser_2025-02-18[14].csv', 'mic_2025-02-18[17].csv', 'mic_2025-02-18[6].csv', 'laser_2025-02-18[16].csv', 'mic_2025-02-18[1].csv', 'laser_2025-02-18[18].csv', 'laser_2025-02-18[8].csv', 'mic_2025-02-18[2].csv', 'laser_2025-02-18[20].csv', 'mic_2025-02-18[5].csv', 'mic_2025-02-18[13].csv', 'laser_2025-02-18[12].csv', 'laser_2025-02-18[5].csv', 'laser_2025-02-18[19].csv', 'mic_2025-02-18[9].csv', 'laser_2025-02-18[3].csv', 'laser_2025-02-18[1].csv', 'mic_2025-02-18[7].csv', 'mic_2025-02-18[15].csv', 'mic_2025-02-18[10].csv', 'mic_2025-02-18[19].csv', 'laser_2025-02-18[6].csv', 'mic_2025-02-18[14].csv', 'mic_2025-02-18[16].csv', 'mic_2025-02-18[4].csv', 'laser_2025-02-18[4].csv', 'mic_2025-02-18[12].csv', 'laser_2025-02-18[10].csv', 'laser_2025-02-18[2].csv', 'laser_2025-02-18[13].csv', 'mic_2025-02-18[18].csv', 'laser_2025-02-18[11].csv', 'mic_2025-02-18[3].csv', 'mic_2025-02-18[8].csv', 'laser_2025-02-18[7].csv']\n",
      "empty_disturbed\n",
      "['mic_2025-02-18[1].csv', 'mic_2025-02-18[2].csv', 'laser_2025-02-18[3].csv', 'laser_2025-02-18[1].csv', 'laser_2025-02-18[2].csv', 'mic_2025-02-18[3].csv']\n",
      "86\n"
     ]
    }
   ],
   "source": [
    "# find all csv files in the data directory\n",
    "categories = os.listdir(DATA_DIR)\n",
    "categories = [c for c in categories if os.path.isdir(os.path.join(DATA_DIR, c))]\n",
    "print(categories)\n",
    "\n",
    "\n",
    "import pandas as pd\n",
    "\n",
    "# create df with 3 columns: filepath, sensor_type, category\n",
    "entries = []\n",
    "\n",
    "# for each category, find all csv files\n",
    "for category in categories:\n",
    "    print(category)\n",
    "    csv_files = os.listdir(os.path.join(DATA_DIR, category))\n",
    "    csv_files = [f for f in csv_files if f.endswith(\".csv\")]\n",
    "    print(csv_files)\n",
    "\n",
    "    for file in csv_files:\n",
    "        sensor_type = file.split(\"_\")[0]\n",
    "        filepath = os.path.join(DATA_DIR, category, file)\n",
    "        # add to df\n",
    "        entries.append({\"filepath\": filepath, \"sensor_type\": sensor_type, \"category\": category})    \n",
    "\n",
    "df = pd.DataFrame(entries)\n",
    "\n",
    "print(len(df))"
   ]
  },
  {
   "cell_type": "code",
   "execution_count": 6,
   "metadata": {},
   "outputs": [
    {
     "name": "stdout",
     "output_type": "stream",
     "text": [
      "80\n"
     ]
    }
   ],
   "source": [
    "# drop category 'empty_disturbed'\n",
    "df = df[df[\"category\"] != \"empty_disturbed\"]\n",
    "print(len(df))\n"
   ]
  },
  {
   "cell_type": "code",
   "execution_count": 7,
   "metadata": {},
   "outputs": [],
   "source": [
    "def plot_waveform(waveform, sample_rate):\n",
    "\n",
    "    num_channels, num_frames = waveform.shape\n",
    "    time_axis = torch.arange(0, num_frames) / sample_rate\n",
    "\n",
    "    figure, axes = plt.subplots(num_channels, 1)\n",
    "    if num_channels == 1:\n",
    "        axes = [axes]\n",
    "    for c in range(num_channels):\n",
    "        axes[c].plot(time_axis, waveform[c], linewidth=1)\n",
    "        axes[c].grid(True)\n",
    "        if num_channels > 1:\n",
    "            axes[c].set_ylabel(f\"Channel {c+1}\")\n",
    "    figure.suptitle(\"waveform\")"
   ]
  },
  {
   "cell_type": "code",
   "execution_count": 8,
   "metadata": {},
   "outputs": [
    {
     "name": "stderr",
     "output_type": "stream",
     "text": [
      "100%|██████████| 80/80 [00:34<00:00,  2.35it/s]\n"
     ]
    }
   ],
   "source": [
    "# for each entry, read the csv file save wav file\n",
    "from converter import SpectrogramCalculator\n",
    "import torch\n",
    "import matplotlib.pyplot as plt\n",
    "from tqdm import tqdm\n",
    "\n",
    "for i, row in tqdm(df.iterrows(), total=len(df)):\n",
    " \n",
    "    filepath = row[\"filepath\"]\n",
    "    par_dir = os.path.dirname(filepath)\n",
    "    filename = os.path.basename(filepath)\n",
    "    filename = filename.replace(\".csv\", \"\")\n",
    "\n",
    "\n",
    "    calc = SpectrogramCalculator(par_dir, filename)\n",
    "\n",
    "\n",
    "    calc.encode_as_wav()\n",
    "\n",
    "    # plot waveform\n",
    "    # plot_waveform(torch.tensor(calc.data).unsqueeze(0), int(calc.fs))\n",
    "    # plt.show()\n",
    "    del calc\n",
    "    \n"
   ]
  },
  {
   "cell_type": "code",
   "execution_count": null,
   "metadata": {},
   "outputs": [],
   "source": []
  },
  {
   "cell_type": "code",
   "execution_count": 9,
   "metadata": {},
   "outputs": [],
   "source": [
    "laser_df = df[df[\"sensor_type\"] == \"laser\"]\n",
    "mic_df = df[df[\"sensor_type\"] == \"mic\"]"
   ]
  },
  {
   "cell_type": "code",
   "execution_count": null,
   "metadata": {},
   "outputs": [],
   "source": []
  },
  {
   "cell_type": "code",
   "execution_count": 10,
   "metadata": {},
   "outputs": [],
   "source": [
    "import random\n",
    "random.seed(42)\n",
    "\n",
    "# create train and test splits \n",
    "val_ratio = 0.2\n",
    "train_laser_indices = random.sample(range(len(laser_df)), int(len(laser_df) * (1 - val_ratio)))\n",
    "val_laser_indices = [i for i in range(len(laser_df)) if i not in train_laser_indices]\n",
    "\n",
    "train_mic_indices = random.sample(range(len(mic_df)), int(len(mic_df) * (1 - val_ratio)))\n",
    "val_mic_indices = [i for i in range(len(mic_df)) if i not in train_mic_indices]\n",
    "\n",
    "train_laser_df = laser_df.iloc[train_laser_indices]\n",
    "val_laser_df = laser_df.iloc[val_laser_indices]\n",
    "\n",
    "train_mic_df = mic_df.iloc[train_mic_indices]\n",
    "val_mic_df = mic_df.iloc[val_mic_indices]\n"
   ]
  },
  {
   "cell_type": "code",
   "execution_count": 11,
   "metadata": {},
   "outputs": [],
   "source": [
    "# create train dataset."
   ]
  },
  {
   "cell_type": "code",
   "execution_count": null,
   "metadata": {},
   "outputs": [],
   "source": []
  }
 ],
 "metadata": {
  "kernelspec": {
   "display_name": "Python 3",
   "language": "python",
   "name": "python3"
  },
  "language_info": {
   "codemirror_mode": {
    "name": "ipython",
    "version": 3
   },
   "file_extension": ".py",
   "mimetype": "text/x-python",
   "name": "python",
   "nbconvert_exporter": "python",
   "pygments_lexer": "ipython3",
   "version": "3.9.21"
  }
 },
 "nbformat": 4,
 "nbformat_minor": 2
}
